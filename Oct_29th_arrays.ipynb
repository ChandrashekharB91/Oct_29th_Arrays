{
 "cells": [
  {
   "cell_type": "markdown",
   "id": "8b9d5188-c195-49ba-af26-fb5a7a299d8f",
   "metadata": {
    "tags": []
   },
   "source": [
    "# <span style=\"color:red\">Arrays</span>"
   ]
  },
  {
   "cell_type": "markdown",
   "id": "db434be1-c6b1-4c68-b439-cce515b9f68a",
   "metadata": {},
   "source": [
    "1. Given an array, check if it contains any duplicates or not.    \n",
    "arr = [1, 2, 4, 2, 5, 9]    \n",
    "Output = True"
   ]
  },
  {
   "cell_type": "code",
   "execution_count": 1,
   "id": "6c96e717-3c2a-493f-bce8-198054f7092a",
   "metadata": {
    "tags": []
   },
   "outputs": [
    {
     "name": "stdout",
     "output_type": "stream",
     "text": [
      "True\n"
     ]
    }
   ],
   "source": [
    "def has_duplicates(arr):\n",
    "    num_search = set()\n",
    "    for num in arr:\n",
    "        if num in num_search:\n",
    "            return True\n",
    "        num_search.add(num)\n",
    "    return False\n",
    "\n",
    "arr = [1, 2, 4, 2, 5, 9]\n",
    "print(has_duplicates(arr))"
   ]
  },
  {
   "cell_type": "code",
   "execution_count": 2,
   "id": "c4887c08-649c-4c06-9c66-137791b98435",
   "metadata": {
    "tags": []
   },
   "outputs": [
    {
     "name": "stdout",
     "output_type": "stream",
     "text": [
      "{2: [1, 3, 6], 4: [2, 7]}\n"
     ]
    }
   ],
   "source": [
    "## Suppose we want to return duplicates with their indices also\n",
    "\n",
    "def find_duplicates_with_indices(arr):\n",
    "    duplicates_with_indices = {}\n",
    "    seen = {}\n",
    "    for i, num in enumerate(arr):\n",
    "        if num in seen:\n",
    "            if num not in duplicates_with_indices:\n",
    "                duplicates_with_indices[num] = [seen[num], i]\n",
    "            else:\n",
    "                duplicates_with_indices[num].append(i)\n",
    "        else:\n",
    "            seen[num] = i\n",
    "    return duplicates_with_indices\n",
    "\n",
    "arr = [1, 2, 4, 2, 5, 9, 2, 4]\n",
    "print(find_duplicates_with_indices(arr))"
   ]
  },
  {
   "cell_type": "markdown",
   "id": "f049d7f8-1247-44c0-a37b-e0d54f4da28f",
   "metadata": {
    "tags": []
   },
   "source": [
    "2. Given an array and an integer k, rotate the array to the right by k steps.    \n",
    "arr = [1, 2, 3, 4, 5, 6, 7]    \n",
    "k = 3      \n",
    "Output = [5, 6, 7, 1, 2, 3, 4]    "
   ]
  },
  {
   "cell_type": "code",
   "execution_count": 3,
   "id": "247d0bfa-d366-4b16-9c73-e935a662c621",
   "metadata": {
    "tags": []
   },
   "outputs": [
    {
     "name": "stdout",
     "output_type": "stream",
     "text": [
      "[5, 6, 7, 1, 2, 3, 4]\n"
     ]
    }
   ],
   "source": [
    "def rotate_array_by_k(arr, k):\n",
    "    n = len(arr)\n",
    "    k %= n  # To handle cases where k is greater than the length of the array\n",
    "    rotated_arr = arr[-k:] + arr[:-k]\n",
    "    return rotated_arr\n",
    "\n",
    "arr = [1, 2, 3, 4, 5, 6, 7]\n",
    "k = 3\n",
    "print(rotate_array_by_k(arr, k))"
   ]
  },
  {
   "cell_type": "code",
   "execution_count": 4,
   "id": "e1afcccb-a58d-47e2-9817-f39971ac0bf8",
   "metadata": {},
   "outputs": [],
   "source": [
    "# arr = [1, 2, 3, 4, 5, 6, 7]\n",
    "# arr[-3:] + arr[:-3]"
   ]
  },
  {
   "cell_type": "markdown",
   "id": "ae07b146-7bee-4106-a8f8-6c85571150c7",
   "metadata": {},
   "source": [
    "3. Reverse the given array in-place, means without using any extra data structure.    \n",
    "arr = [2, 4, 5, 7, 9, 12]    \n",
    "Output = [12, 9, 7, 5, 4, 2]    "
   ]
  },
  {
   "cell_type": "code",
   "execution_count": 9,
   "id": "c6596432-57fc-443f-9232-72b1f153039a",
   "metadata": {
    "tags": []
   },
   "outputs": [
    {
     "name": "stdout",
     "output_type": "stream",
     "text": [
      "[12, 9, 7, 5, 4, 2]\n"
     ]
    }
   ],
   "source": [
    "def reverse_array(arr):\n",
    "    x1 = 0\n",
    "    xn = len(arr) - 1\n",
    "\n",
    "    while x1 < xn:\n",
    "        arr[x1], arr[xn] = arr[xn], arr[x1]\n",
    "        x1 += 1\n",
    "        xn -= 1\n",
    "\n",
    "arr = [2, 4, 5, 7, 9, 12]\n",
    "reverse_array(arr)\n",
    "print(arr)"
   ]
  },
  {
   "cell_type": "code",
   "execution_count": 7,
   "id": "9f4749ab-0c79-45cb-935a-132fb383ea14",
   "metadata": {},
   "outputs": [],
   "source": [
    "# def reverse_arr(arr):\n",
    "#     rev_arr = []\n",
    "#     for i in range(1, len(arr) + 1):\n",
    "#         rev_arr.append(arr[-i])\n",
    "#     return rev_arr"
   ]
  },
  {
   "cell_type": "markdown",
   "id": "32e75c52-f15d-41cf-9a75-bb7ee6f2057a",
   "metadata": {},
   "source": [
    "4. Given an array of integers, find the maximum element in an array\n",
    "\n",
    "arr = [10, 5, 20, 8, 15]\n",
    "\n",
    "Output = 20"
   ]
  },
  {
   "cell_type": "code",
   "execution_count": 18,
   "id": "d3ff2ab2-0ca2-42b2-b73c-d48079f42a3a",
   "metadata": {},
   "outputs": [
    {
     "name": "stdout",
     "output_type": "stream",
     "text": [
      "20\n"
     ]
    }
   ],
   "source": [
    "def max_element(arr):\n",
    "    mx_elt = arr[0]\n",
    "    for i in range(1, len(arr)):\n",
    "        if arr[i] > mx_elt:\n",
    "            mx_elt = arr[i]\n",
    "    return mx_elt\n",
    "arr = [10, 5, 20, 8, 15]\n",
    "print(max_element(arr))"
   ]
  },
  {
   "cell_type": "markdown",
   "id": "2efd5808-8dde-46fc-93ad-287336445bf7",
   "metadata": {},
   "source": [
    "5. Given a sorted array, remove the duplicate element without using any extra data structure.    \n",
    "arr = [1, 1, 2, 2, 2, 3, 3, 4, 4, 4, 5, 5]    \n",
    "Output = [1, 2, 3, 4, 5]    "
   ]
  },
  {
   "cell_type": "code",
   "execution_count": 23,
   "id": "b6208695-b0d9-4d74-9483-e0e00d0df54b",
   "metadata": {},
   "outputs": [
    {
     "name": "stdout",
     "output_type": "stream",
     "text": [
      "[1, 2, 3, 4, 5]\n"
     ]
    }
   ],
   "source": [
    "def remove_duplicates(arr):\n",
    "    index = 1\n",
    "    while index < len(arr):\n",
    "        if arr[index] == arr[index - 1]:\n",
    "            arr.remove(arr[index])\n",
    "        else:\n",
    "            index += 1\n",
    "    return arr\n",
    "\n",
    "arr = [1, 1, 2, 2, 2, 3, 3, 4, 4, 4, 5, 5]\n",
    "print(remove_duplicates(arr))"
   ]
  },
  {
   "cell_type": "code",
   "execution_count": null,
   "id": "78453582-a7b6-4c3d-b666-55c2e5077fd7",
   "metadata": {},
   "outputs": [],
   "source": []
  },
  {
   "cell_type": "code",
   "execution_count": null,
   "id": "8e2fa98d-0df5-40c7-8643-a8db2a2e5d31",
   "metadata": {},
   "outputs": [],
   "source": []
  },
  {
   "cell_type": "code",
   "execution_count": null,
   "id": "ffa6eea7-f5d0-4b38-8534-9e98a6a07f8b",
   "metadata": {},
   "outputs": [],
   "source": []
  },
  {
   "cell_type": "code",
   "execution_count": null,
   "id": "1912318b-9931-477e-9896-59a039ce7ab1",
   "metadata": {},
   "outputs": [],
   "source": []
  },
  {
   "cell_type": "code",
   "execution_count": null,
   "id": "98bbb925-08f9-4c2f-989e-3250d3498cf2",
   "metadata": {},
   "outputs": [],
   "source": []
  },
  {
   "cell_type": "code",
   "execution_count": null,
   "id": "630b63cf-2e63-4422-b090-b8b6d2a5b358",
   "metadata": {},
   "outputs": [],
   "source": []
  },
  {
   "cell_type": "code",
   "execution_count": null,
   "id": "7ea4a63c-c488-47ee-b036-efd60fd84634",
   "metadata": {},
   "outputs": [],
   "source": []
  },
  {
   "cell_type": "code",
   "execution_count": null,
   "id": "8ba1914a-c9fd-4588-adc0-76f55bdaf291",
   "metadata": {},
   "outputs": [],
   "source": []
  },
  {
   "cell_type": "code",
   "execution_count": null,
   "id": "6223478b-44f1-4618-8494-fbca5b432a06",
   "metadata": {},
   "outputs": [],
   "source": []
  },
  {
   "cell_type": "code",
   "execution_count": null,
   "id": "0d60b9c8-3c8d-4180-9cf7-5b7ba786468b",
   "metadata": {},
   "outputs": [],
   "source": []
  },
  {
   "cell_type": "code",
   "execution_count": null,
   "id": "44be589d-4fd7-4799-b06a-34025c5a3a88",
   "metadata": {},
   "outputs": [],
   "source": []
  },
  {
   "cell_type": "code",
   "execution_count": null,
   "id": "e5bbf1a5-bc00-43ce-8f86-503d8020e0d7",
   "metadata": {},
   "outputs": [],
   "source": []
  },
  {
   "cell_type": "code",
   "execution_count": null,
   "id": "c10675cc-b834-41cc-866e-e8d63ec6ec1f",
   "metadata": {},
   "outputs": [],
   "source": []
  },
  {
   "cell_type": "code",
   "execution_count": null,
   "id": "ca5b49cb-131f-43fb-a2b6-984b38e78f10",
   "metadata": {},
   "outputs": [],
   "source": []
  },
  {
   "cell_type": "code",
   "execution_count": null,
   "id": "bc7e124e-55f1-42c0-99a2-6fb5c5162d83",
   "metadata": {},
   "outputs": [],
   "source": []
  },
  {
   "cell_type": "code",
   "execution_count": null,
   "id": "8211af24-cffb-43b2-b90a-4e6d3b8a82d0",
   "metadata": {},
   "outputs": [],
   "source": []
  },
  {
   "cell_type": "code",
   "execution_count": null,
   "id": "6d59e853-3c21-4ae6-a8fb-7231c5b2895d",
   "metadata": {},
   "outputs": [],
   "source": []
  },
  {
   "cell_type": "code",
   "execution_count": null,
   "id": "63534600-bbbe-46c2-9208-3c77c01a0acf",
   "metadata": {},
   "outputs": [],
   "source": []
  },
  {
   "cell_type": "code",
   "execution_count": null,
   "id": "c7036b07-fbbc-4216-a56a-34544314d6c2",
   "metadata": {},
   "outputs": [],
   "source": []
  },
  {
   "cell_type": "code",
   "execution_count": null,
   "id": "bb0a20ca-dc39-47ea-9edc-bc10b99ab35d",
   "metadata": {},
   "outputs": [],
   "source": []
  },
  {
   "cell_type": "code",
   "execution_count": null,
   "id": "141feec5-7fe7-4408-9393-8bfc3379aca9",
   "metadata": {},
   "outputs": [],
   "source": []
  },
  {
   "cell_type": "code",
   "execution_count": null,
   "id": "45224e93-8c41-4ae7-9a29-0b5f2ac4d624",
   "metadata": {},
   "outputs": [],
   "source": []
  },
  {
   "cell_type": "code",
   "execution_count": null,
   "id": "06819cf4-b638-486a-a628-8d3c47031ea8",
   "metadata": {},
   "outputs": [],
   "source": []
  },
  {
   "cell_type": "code",
   "execution_count": null,
   "id": "f4daf88a-ddb8-4d6f-a360-1431d4486b32",
   "metadata": {},
   "outputs": [],
   "source": []
  }
 ],
 "metadata": {
  "kernelspec": {
   "display_name": "Python 3 (ipykernel)",
   "language": "python",
   "name": "python3"
  },
  "language_info": {
   "codemirror_mode": {
    "name": "ipython",
    "version": 3
   },
   "file_extension": ".py",
   "mimetype": "text/x-python",
   "name": "python",
   "nbconvert_exporter": "python",
   "pygments_lexer": "ipython3",
   "version": "3.11.5"
  }
 },
 "nbformat": 4,
 "nbformat_minor": 5
}
